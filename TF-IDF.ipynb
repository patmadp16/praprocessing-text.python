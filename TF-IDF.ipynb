{
 "cells": [
  {
   "cell_type": "code",
   "execution_count": 1,
   "id": "3ab149ce",
   "metadata": {},
   "outputs": [
    {
     "data": {
      "text/html": [
       "<div>\n",
       "<style scoped>\n",
       "    .dataframe tbody tr th:only-of-type {\n",
       "        vertical-align: middle;\n",
       "    }\n",
       "\n",
       "    .dataframe tbody tr th {\n",
       "        vertical-align: top;\n",
       "    }\n",
       "\n",
       "    .dataframe thead th {\n",
       "        text-align: right;\n",
       "    }\n",
       "</style>\n",
       "<table border=\"1\" class=\"dataframe\">\n",
       "  <thead>\n",
       "    <tr style=\"text-align: right;\">\n",
       "      <th></th>\n",
       "      <th>comments</th>\n",
       "    </tr>\n",
       "  </thead>\n",
       "  <tbody>\n",
       "    <tr>\n",
       "      <th>0</th>\n",
       "      <td>['dapat']</td>\n",
       "    </tr>\n",
       "    <tr>\n",
       "      <th>1</th>\n",
       "      <td>['senang', 'lihat', 'kalau', 'rusuh', 'teroris...</td>\n",
       "    </tr>\n",
       "    <tr>\n",
       "      <th>2</th>\n",
       "      <td>['lamban', 'langgar', 'ham', 'lihat', 'laku', ...</td>\n",
       "    </tr>\n",
       "    <tr>\n",
       "      <th>3</th>\n",
       "      <td>['terbang', 'curah', 'tinggi', 'kaki', 'selama...</td>\n",
       "    </tr>\n",
       "    <tr>\n",
       "      <th>4</th>\n",
       "      <td>['selamat', 'habis', 'pangacau', 'banyak', 'ny...</td>\n",
       "    </tr>\n",
       "  </tbody>\n",
       "</table>\n",
       "</div>"
      ],
      "text/plain": [
       "                                            comments\n",
       "0                                          ['dapat']\n",
       "1  ['senang', 'lihat', 'kalau', 'rusuh', 'teroris...\n",
       "2  ['lamban', 'langgar', 'ham', 'lihat', 'laku', ...\n",
       "3  ['terbang', 'curah', 'tinggi', 'kaki', 'selama...\n",
       "4  ['selamat', 'habis', 'pangacau', 'banyak', 'ny..."
      ]
     },
     "execution_count": 1,
     "metadata": {},
     "output_type": "execute_result"
    }
   ],
   "source": [
    "import pandas as pd \n",
    "import numpy as np\n",
    "\n",
    "data_komentar= pd.read_csv(\"comment_text_Preprocessing.csv\",usecols=[\"Comments_tokens_stemmed\"])\n",
    "data_komentar.columns = [\"comments\"]\n",
    "\n",
    "data_komentar.head()"
   ]
  },
  {
   "cell_type": "code",
   "execution_count": 2,
   "id": "abb2114d",
   "metadata": {},
   "outputs": [
    {
     "name": "stdout",
     "output_type": "stream",
     "text": [
      "['selamat', 'tni', 'polri', 'jaya', 'tni', 'polriindonesia', 'raya']\n",
      "\n",
      "type :  <class 'list'>\n"
     ]
    }
   ],
   "source": [
    "# convert list formated string to list\n",
    "import ast\n",
    "\n",
    "def convert_text_list(texts):\n",
    "    texts = ast.literal_eval(texts)\n",
    "    return [text for text in texts]\n",
    "\n",
    "data_komentar[\"comments_list\"] = data_komentar[\"comments\"].apply(convert_text_list)\n",
    "\n",
    "\n",
    "print(data_komentar[\"comments_list\"][90])\n",
    "\n",
    "print(\"\\ntype : \", type(data_komentar[\"comments_list\"][90]))"
   ]
  },
  {
   "cell_type": "code",
   "execution_count": 3,
   "id": "244aa9ee",
   "metadata": {},
   "outputs": [
    {
     "data": {
      "text/plain": [
       "0                                       {'dapat': 1.0}\n",
       "1    {'senang': 0.05555555555555555, 'lihat': 0.055...\n",
       "2    {'lamban': 0.125, 'langgar': 0.125, 'ham': 0.1...\n",
       "3    {'terbang': 0.125, 'curah': 0.125, 'tinggi': 0...\n",
       "4    {'selamat': 0.125, 'habis': 0.125, 'pangacau':...\n",
       "Name: TF_dict, dtype: object"
      ]
     },
     "execution_count": 3,
     "metadata": {},
     "output_type": "execute_result"
    }
   ],
   "source": [
    "def calc_TF(document):\n",
    "    # Counts the number of times the word appears in review\n",
    "    TF_dict = {}\n",
    "    for term in document:\n",
    "        if term in TF_dict:\n",
    "            TF_dict[term] += 1\n",
    "        else:\n",
    "            TF_dict[term] = 1\n",
    "    # Computes tf for each word\n",
    "    for term in TF_dict:\n",
    "        TF_dict[term] = TF_dict[term] / len(document)\n",
    "    return TF_dict\n",
    "\n",
    "data_komentar[\"TF_dict\"] = data_komentar['comments_list'].apply(calc_TF)\n",
    "\n",
    "data_komentar[\"TF_dict\"].head()"
   ]
  },
  {
   "cell_type": "code",
   "execution_count": 4,
   "id": "3a7e5f95",
   "metadata": {},
   "outputs": [
    {
     "name": "stdout",
     "output_type": "stream",
     "text": [
      "                term \t TF\n",
      "\n",
      "             selamat \t 0.14285714285714285\n",
      "                 tni \t 0.2857142857142857\n",
      "               polri \t 0.14285714285714285\n",
      "                jaya \t 0.14285714285714285\n",
      "      polriindonesia \t 0.14285714285714285\n",
      "                raya \t 0.14285714285714285\n"
     ]
    }
   ],
   "source": [
    "# Check TF result\n",
    "index = 90\n",
    "\n",
    "print('%20s' % \"term\", \"\\t\", \"TF\\n\")\n",
    "for key in data_komentar[\"TF_dict\"][index]:\n",
    "    print('%20s' % key, \"\\t\", data_komentar[\"TF_dict\"][index][key])"
   ]
  },
  {
   "cell_type": "code",
   "execution_count": 5,
   "id": "186f5e77",
   "metadata": {},
   "outputs": [
    {
     "data": {
      "text/plain": [
       "0                                       {'dapat': 1.0}\n",
       "1    {'senang': 0.058823529411764705, 'lihat': 0.05...\n",
       "2    {'lamban': 0.125, 'langgar': 0.125, 'ham': 0.1...\n",
       "3    {'terbang': 0.14285714285714285, 'curah': 0.14...\n",
       "4    {'selamat': 0.125, 'habis': 0.125, 'pangacau':...\n",
       "Name: DF_dict, dtype: object"
      ]
     },
     "execution_count": 5,
     "metadata": {},
     "output_type": "execute_result"
    }
   ],
   "source": [
    "def calc_DF(tfDict):\n",
    "    count_DF = {}\n",
    "    # Run through each document's tf dictionary and increment countDict's (term, doc) pair\n",
    "    for document in tfDict:\n",
    "        for term in document:\n",
    "            if term in count_DF:\n",
    "                count_DF[term] += 1\n",
    "            else:\n",
    "                count_DF[term] = 1\n",
    "    return count_DF\n",
    "\n",
    "DF = calc_DF(data_komentar[\"TF_dict\"])\n",
    "\n",
    "data_komentar[\"DF_dict\"] = data_komentar[\"TF_dict\"].apply(calc_TF)\n",
    "\n",
    "data_komentar[\"DF_dict\"].head()"
   ]
  },
  {
   "cell_type": "code",
   "execution_count": 6,
   "id": "d021513d",
   "metadata": {},
   "outputs": [
    {
     "name": "stdout",
     "output_type": "stream",
     "text": [
      "                term \t DF\n",
      "\n",
      "             selamat \t 0.16666666666666666\n",
      "                 tni \t 0.16666666666666666\n",
      "               polri \t 0.16666666666666666\n",
      "                jaya \t 0.16666666666666666\n",
      "      polriindonesia \t 0.16666666666666666\n",
      "                raya \t 0.16666666666666666\n"
     ]
    }
   ],
   "source": [
    "# Check TF result\n",
    "index = 90\n",
    "\n",
    "print('%20s' % \"term\", \"\\t\", \"DF\\n\")\n",
    "for key in data_komentar[\"DF_dict\"][index]:\n",
    "    print('%20s' % key, \"\\t\", data_komentar[\"DF_dict\"][index][key])"
   ]
  },
  {
   "cell_type": "code",
   "execution_count": 7,
   "id": "cb6a226c",
   "metadata": {},
   "outputs": [],
   "source": [
    "n_document = len(data_komentar)\n",
    "\n",
    "def calc_IDF(__n_document, __DF):\n",
    "    IDF_Dict = {}\n",
    "    for term in __DF:\n",
    "        IDF_Dict[term] = np.log(__n_document / (__DF[term] + 1))\n",
    "    return IDF_Dict\n",
    "  \n",
    "#Stores the idf dictionary\n",
    "IDF = calc_IDF(n_document, DF)"
   ]
  },
  {
   "cell_type": "code",
   "execution_count": 8,
   "id": "f28952e0",
   "metadata": {},
   "outputs": [],
   "source": [
    "#calc TF-IDF\n",
    "def calc_TF_IDF(TF):\n",
    "    TF_IDF_Dict = {}\n",
    "    #For each word in the review, we multiply its tf and its idf.\n",
    "    for key in TF:\n",
    "        TF_IDF_Dict[key] = TF[key] * IDF[key]\n",
    "    return TF_IDF_Dict\n",
    "\n",
    "#Stores the TF-IDF Series\n",
    "data_komentar[\"TF-IDF_dict\"] = data_komentar[\"TF_dict\"].apply(calc_TF_IDF)"
   ]
  },
  {
   "cell_type": "code",
   "execution_count": 9,
   "id": "57d241f8",
   "metadata": {},
   "outputs": [
    {
     "name": "stdout",
     "output_type": "stream",
     "text": [
      "                term \t         TF \t              TF-IDF\n",
      "\n",
      "             selamat \t 0.14285714285714285 \t 0.31651053085777364\n",
      "                 tni \t 0.2857142857142857 \t 0.45983940355260006\n",
      "               polri \t 0.14285714285714285 \t 0.32894072757057796\n",
      "                jaya \t 0.14285714285714285 \t 0.6714971951132024\n",
      "      polriindonesia \t 0.14285714285714285 \t 0.6714971951132024\n",
      "                raya \t 0.14285714285714285 \t 0.6714971951132024\n"
     ]
    }
   ],
   "source": [
    "# Check TF-IDF result\n",
    "index = 90\n",
    "\n",
    "print('%20s' % \"term\", \"\\t\", '%10s' % \"TF\", \"\\t\", '%20s' % \"TF-IDF\\n\")\n",
    "for key in data_komentar[\"TF-IDF_dict\"][index]:\n",
    "    print('%20s' % key, \"\\t\", data_komentar[\"TF_dict\"][index][key] ,\"\\t\" , data_komentar[\"TF-IDF_dict\"][index][key])"
   ]
  },
  {
   "cell_type": "code",
   "execution_count": 10,
   "id": "991a808c",
   "metadata": {},
   "outputs": [
    {
     "name": "stdout",
     "output_type": "stream",
     "text": [
      "print first row matrix TF_IDF_Vec Series\n",
      "\n",
      "[0.0, 0.0, 0.0, 0.12308742866691198, 0.25090370338035684, 0.0, 0.0, 0.0, 0.0, 0.0, 0.0, 0.0, 0.15714878827171247, 0.0, 0.16159560536468673, 0.0, 0.0, 0.0, 0.0, 0.17172458074212865]\n",
      "\n",
      "matrix size :  20\n"
     ]
    }
   ],
   "source": [
    "# sort descending by value for DF dictionary \n",
    "sorted_DF = sorted(DF.items(), key=lambda kv: kv[1], reverse=True)[:20]\n",
    "\n",
    "# Create a list of unique words from sorted dictionay `sorted_DF`\n",
    "unique_term = [item[0] for item in sorted_DF]\n",
    "\n",
    "def calc_TF_IDF_Vec(__TF_IDF_Dict):\n",
    "    TF_IDF_vector = [0.0] * len(unique_term)\n",
    "\n",
    "    # For each unique word, if it is in the review, store its TF-IDF value.\n",
    "    for i, term in enumerate(unique_term):\n",
    "        if term in __TF_IDF_Dict:\n",
    "            TF_IDF_vector[i] = __TF_IDF_Dict[term]\n",
    "    return TF_IDF_vector\n",
    "\n",
    "data_komentar[\"TF_IDF_Vec\"] = data_komentar[\"TF-IDF_dict\"].apply(calc_TF_IDF_Vec)\n",
    "\n",
    "print(\"print first row matrix TF_IDF_Vec Series\\n\")\n",
    "print(data_komentar[\"TF_IDF_Vec\"][1])\n",
    "\n",
    "print(\"\\nmatrix size : \", len(data_komentar[\"TF_IDF_Vec\"][1]))"
   ]
  },
  {
   "cell_type": "code",
   "execution_count": 11,
   "id": "92b69668",
   "metadata": {},
   "outputs": [
    {
     "data": {
      "text/html": [
       "<div>\n",
       "<style scoped>\n",
       "    .dataframe tbody tr th:only-of-type {\n",
       "        vertical-align: middle;\n",
       "    }\n",
       "\n",
       "    .dataframe tbody tr th {\n",
       "        vertical-align: top;\n",
       "    }\n",
       "\n",
       "    .dataframe thead th {\n",
       "        text-align: right;\n",
       "    }\n",
       "</style>\n",
       "<table border=\"1\" class=\"dataframe\">\n",
       "  <thead>\n",
       "    <tr style=\"text-align: right;\">\n",
       "      <th></th>\n",
       "      <th>term</th>\n",
       "      <th>rank</th>\n",
       "    </tr>\n",
       "  </thead>\n",
       "  <tbody>\n",
       "    <tr>\n",
       "      <th>0</th>\n",
       "      <td>tni</td>\n",
       "      <td>14.546705</td>\n",
       "    </tr>\n",
       "    <tr>\n",
       "      <th>17</th>\n",
       "      <td>mantap</td>\n",
       "      <td>10.417302</td>\n",
       "    </tr>\n",
       "    <tr>\n",
       "      <th>3</th>\n",
       "      <td>selamat</td>\n",
       "      <td>10.077091</td>\n",
       "    </tr>\n",
       "    <tr>\n",
       "      <th>5</th>\n",
       "      <td>polri</td>\n",
       "      <td>8.388508</td>\n",
       "    </tr>\n",
       "    <tr>\n",
       "      <th>2</th>\n",
       "      <td>saja</td>\n",
       "      <td>7.372248</td>\n",
       "    </tr>\n",
       "    <tr>\n",
       "      <th>16</th>\n",
       "      <td>ham</td>\n",
       "      <td>7.201928</td>\n",
       "    </tr>\n",
       "    <tr>\n",
       "      <th>1</th>\n",
       "      <td>kkb</td>\n",
       "      <td>7.125604</td>\n",
       "    </tr>\n",
       "    <tr>\n",
       "      <th>7</th>\n",
       "      <td>bunuh</td>\n",
       "      <td>6.721416</td>\n",
       "    </tr>\n",
       "    <tr>\n",
       "      <th>4</th>\n",
       "      <td>tangkap</td>\n",
       "      <td>6.548336</td>\n",
       "    </tr>\n",
       "    <tr>\n",
       "      <th>8</th>\n",
       "      <td>tembak</td>\n",
       "      <td>5.847388</td>\n",
       "    </tr>\n",
       "    <tr>\n",
       "      <th>6</th>\n",
       "      <td>mati</td>\n",
       "      <td>5.757652</td>\n",
       "    </tr>\n",
       "    <tr>\n",
       "      <th>13</th>\n",
       "      <td>kasih</td>\n",
       "      <td>5.707696</td>\n",
       "    </tr>\n",
       "    <tr>\n",
       "      <th>9</th>\n",
       "      <td>papua</td>\n",
       "      <td>5.335519</td>\n",
       "    </tr>\n",
       "    <tr>\n",
       "      <th>11</th>\n",
       "      <td>hukum</td>\n",
       "      <td>5.267570</td>\n",
       "    </tr>\n",
       "    <tr>\n",
       "      <th>10</th>\n",
       "      <td>nkri</td>\n",
       "      <td>4.291625</td>\n",
       "    </tr>\n",
       "    <tr>\n",
       "      <th>12</th>\n",
       "      <td>teroris</td>\n",
       "      <td>3.924868</td>\n",
       "    </tr>\n",
       "    <tr>\n",
       "      <th>14</th>\n",
       "      <td>moga</td>\n",
       "      <td>3.839155</td>\n",
       "    </tr>\n",
       "    <tr>\n",
       "      <th>15</th>\n",
       "      <td>langsung</td>\n",
       "      <td>3.305992</td>\n",
       "    </tr>\n",
       "    <tr>\n",
       "      <th>18</th>\n",
       "      <td>indonesia</td>\n",
       "      <td>3.163459</td>\n",
       "    </tr>\n",
       "    <tr>\n",
       "      <th>19</th>\n",
       "      <td>tnipolri</td>\n",
       "      <td>3.091860</td>\n",
       "    </tr>\n",
       "  </tbody>\n",
       "</table>\n",
       "</div>"
      ],
      "text/plain": [
       "         term       rank\n",
       "0         tni  14.546705\n",
       "17     mantap  10.417302\n",
       "3     selamat  10.077091\n",
       "5       polri   8.388508\n",
       "2        saja   7.372248\n",
       "16        ham   7.201928\n",
       "1         kkb   7.125604\n",
       "7       bunuh   6.721416\n",
       "4     tangkap   6.548336\n",
       "8      tembak   5.847388\n",
       "6        mati   5.757652\n",
       "13      kasih   5.707696\n",
       "9       papua   5.335519\n",
       "11      hukum   5.267570\n",
       "10       nkri   4.291625\n",
       "12    teroris   3.924868\n",
       "14       moga   3.839155\n",
       "15   langsung   3.305992\n",
       "18  indonesia   3.163459\n",
       "19   tnipolri   3.091860"
      ]
     },
     "execution_count": 11,
     "metadata": {},
     "output_type": "execute_result"
    }
   ],
   "source": [
    "# Convert Series to List\n",
    "TF_IDF_Vec_List = np.array(data_komentar[\"TF_IDF_Vec\"].to_list())\n",
    "\n",
    "# Sum element vector in axis=0 \n",
    "sums = TF_IDF_Vec_List.sum(axis=0)\n",
    "\n",
    "data = []\n",
    "\n",
    "for col, term in enumerate(unique_term):\n",
    "    data.append((term, sums[col]))\n",
    "    \n",
    "ranking = pd.DataFrame(data, columns=['term', 'rank'])\n",
    "ranking.sort_values('rank', ascending=False)"
   ]
  }
 ],
 "metadata": {
  "kernelspec": {
   "display_name": "Python 3",
   "language": "python",
   "name": "python3"
  },
  "language_info": {
   "codemirror_mode": {
    "name": "ipython",
    "version": 3
   },
   "file_extension": ".py",
   "mimetype": "text/x-python",
   "name": "python",
   "nbconvert_exporter": "python",
   "pygments_lexer": "ipython3",
   "version": "3.8.8"
  }
 },
 "nbformat": 4,
 "nbformat_minor": 5
}
